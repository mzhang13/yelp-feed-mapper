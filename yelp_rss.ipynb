{
 "cells": [
  {
   "cell_type": "code",
   "execution_count": 2,
   "metadata": {
    "collapsed": true
   },
   "outputs": [],
   "source": [
    "from bs4 import BeautifulSoup\n",
    "import urllib.request"
   ]
  },
  {
   "cell_type": "code",
   "execution_count": 3,
   "metadata": {
    "collapsed": false
   },
   "outputs": [],
   "source": [
    "r = urllib.request.urlopen('https://www.yelp.com/syndicate/user/dMPdDtCgj8N_fKOp_YOXhg/rss.xml').read()\n",
    "soup = BeautifulSoup(r, \"html.parser\")"
   ]
  },
  {
   "cell_type": "code",
   "execution_count": 4,
   "metadata": {
    "collapsed": false
   },
   "outputs": [
    {
     "name": "stdout",
     "output_type": "stream",
     "text": [
      "<?xml version=\"1.0\" encoding=\"utf-8\"?>\n",
      "<?xml-stylesheet href=\"https://s3-media4.fl.yelpcdn.com/assets/2/www/css/149dc283e287/rss.css\" type=\"text/css\" media=\"screen\"?>\n",
      "<rss version=\"2.0\" xmlns:geo=\"http://www.w3.org/2003/01/geo/wgs84_pos#\">\n",
      " <channel>\n",
      "  <copyright>\n",
      "   Copyright 2016 Yelp, Inc. All rights reserved.\n",
      "  </copyright>\n",
      "  <title>\n",
      "   Michael Z. on Yelp\n",
      "  </title>\n",
      "  <link>\n",
      "   http://www.yelp.com/user_details?userid=dMPdDtCgj8N_fKOp_YOXhg\n",
      "  </link>\n",
      "  <description>\n",
      "   Yelp - Michael's most recent reviews on Yelp.\n",
      "  </description>\n",
      "  <item>\n",
      "   <pubdate>\n",
      "    Fri, 02 Sep 2016 09:40:11  PST\n",
      "   </pubdate>\n",
      "   <title>\n",
      "    Chicas Tacos (3/5) on Yelp\n",
      "   </title>\n",
      "   <link>\n",
      "    https://www.yelp.com/biz/chicas-tacos-los-angeles?hrid=onffxHXKezg4g_xM2x-EHQ\n",
      "   </link>\n",
      "   <description>\n",
      "    Upon returning to LA, I noticed that there was a new taco place nearby, so I had to check it out. My brother warned me that it wouldn't be worth it, but I was pretty optimistic.\n",
      "\n",
      "The setup of the…\n",
      "   </description>\n",
      "   <geo:long>\n",
      "    -118.256342201\n",
      "   </geo:long>\n",
      "   <geo:lat>\n",
      "    34.0456597932\n",
      "   </geo:lat>\n",
      "  </item>\n",
      "  <item>\n",
      "   <pubdate>\n",
      "    Sun, 14 Aug 2016 21:59:12  PST\n",
      "   </pubdate>\n",
      "   <title>\n",
      "    Subway (1/5) on Yelp\n",
      "   </title>\n",
      "   <link>\n",
      "    https://www.yelp.com/biz/subway-smithtown-3?hrid=SEnT4x9WiWQ27On0Ry24AQ\n",
      "   </link>\n",
      "   <description>\n",
      "    4 years ago, I would come to this Subway on an almost daily basis. $5 footlongs on the healthier side of fast food and quality to go with it made it a great sell for a high school student on a budget.…\n",
      "   </description>\n",
      "   <geo:long>\n",
      "    -73.1564311\n",
      "   </geo:long>\n",
      "   <geo:lat>\n",
      "    40.8366258\n",
      "   </geo:lat>\n",
      "  </item>\n",
      "  <item>\n",
      "   <pubdate>\n",
      "    Fri, 12 Aug 2016 20:25:43  PST\n",
      "   </pubdate>\n",
      "   <title>\n",
      "    L.I. Pour House Bar and Grill (4/5) on Yelp\n",
      "   </title>\n",
      "   <link>\n",
      "    https://www.yelp.com/biz/l-i-pour-house-bar-and-grill-port-jefferson-station?hrid=1UqqR7vkrYe375cJkpnH_A\n",
      "   </link>\n",
      "   <description>\n",
      "    Every Thursday, from 7-9pm, this place offers \n"
     ]
    }
   ],
   "source": [
    "print(soup.prettify()[0:2000])"
   ]
  },
  {
   "cell_type": "code",
   "execution_count": 9,
   "metadata": {
    "collapsed": false
   },
   "outputs": [],
   "source": [
    "reviews = soup.find_all(\"item\")"
   ]
  },
  {
   "cell_type": "code",
   "execution_count": 6,
   "metadata": {
    "collapsed": false
   },
   "outputs": [
    {
     "name": "stdout",
     "output_type": "stream",
     "text": [
      "<title>Chicas Tacos (3/5) on Yelp</title>\n"
     ]
    }
   ],
   "source": [
    "print(letters[0].title)"
   ]
  },
  {
   "cell_type": "code",
   "execution_count": 7,
   "metadata": {
    "collapsed": false
   },
   "outputs": [],
   "source": [
    "long = soup.find_all(\"geo:long\")\n",
    "lat = soup.find_all(\"geo:lat\")"
   ]
  },
  {
   "cell_type": "code",
   "execution_count": 8,
   "metadata": {
    "collapsed": false
   },
   "outputs": [
    {
     "name": "stdout",
     "output_type": "stream",
     "text": [
      "<geo:long>-118.256342201</geo:long>\n"
     ]
    }
   ],
   "source": [
    "print(long[0])"
   ]
  },
  {
   "cell_type": "code",
   "execution_count": 13,
   "metadata": {
    "collapsed": false
   },
   "outputs": [
    {
     "name": "stdout",
     "output_type": "stream",
     "text": [
      "<item>\n",
      "<pubdate>Sun, 14 Aug 2016 21:59:12  PST</pubdate>\n",
      "<title>Subway (1/5) on Yelp</title>\n",
      "<link>https://www.yelp.com/biz/subway-smithtown-3?hrid=SEnT4x9WiWQ27On0Ry24AQ</link>\n",
      "<description>4 years ago, I would come to this Subway on an almost daily basis. $5 footlongs on the healthier side of fast food and quality to go with it made it a great sell for a high school student on a budget.…</description>\n",
      "<geo:long>-73.1564311</geo:long>\n",
      "<geo:lat>40.8366258</geo:lat>\n",
      "</item>\n",
      "<geo:long>-73.1564311</geo:long>\n"
     ]
    }
   ],
   "source": [
    "print(reviews[1])\n",
    "print(reviews[1].find(\"geo:long\"))"
   ]
  },
  {
   "cell_type": "code",
   "execution_count": null,
   "metadata": {
    "collapsed": true
   },
   "outputs": [],
   "source": []
  }
 ],
 "metadata": {
  "kernelspec": {
   "display_name": "Python 3",
   "language": "python",
   "name": "python3"
  },
  "language_info": {
   "codemirror_mode": {
    "name": "ipython",
    "version": 3
   },
   "file_extension": ".py",
   "mimetype": "text/x-python",
   "name": "python",
   "nbconvert_exporter": "python",
   "pygments_lexer": "ipython3",
   "version": "3.5.1"
  }
 },
 "nbformat": 4,
 "nbformat_minor": 0
}
