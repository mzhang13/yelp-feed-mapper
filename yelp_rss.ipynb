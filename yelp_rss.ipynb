{
 "cells": [
  {
   "cell_type": "markdown",
   "metadata": {},
   "source": [
    "# Get Soup"
   ]
  },
  {
   "cell_type": "code",
   "execution_count": 100,
   "metadata": {
    "collapsed": true
   },
   "outputs": [],
   "source": [
    "from bs4 import BeautifulSoup\n",
    "import urllib.request\n",
    "import re\n",
    "import json"
   ]
  },
  {
   "cell_type": "code",
   "execution_count": 5,
   "metadata": {
    "collapsed": false
   },
   "outputs": [],
   "source": [
    "# my Yelp reviews\n",
    "r = urllib.request.urlopen('https://www.yelp.com/syndicate/user/dMPdDtCgj8N_fKOp_YOXhg/rss.xml').read()\n",
    "soup = BeautifulSoup(r, \"html.parser\")"
   ]
  },
  {
   "cell_type": "code",
   "execution_count": 6,
   "metadata": {
    "collapsed": false
   },
   "outputs": [
    {
     "name": "stdout",
     "output_type": "stream",
     "text": [
      "<?xml version=\"1.0\" encoding=\"utf-8\"?>\n",
      "<?xml-stylesheet href=\"https://s3-media4.fl.yelpcdn.com/assets/2/www/css/149dc283e287/rss.css\" type=\"text/css\" media=\"screen\"?>\n",
      "<rss version=\"2.0\" xmlns:geo=\"http://www.w3.org/2003/01/geo/wgs84_pos#\">\n",
      " <channel>\n",
      "  <copyright>\n",
      "   Copyright 2016 Yelp, Inc. All rights reserved.\n",
      "  </copyright>\n",
      "  <title>\n",
      "   Michael Z. on Yelp\n",
      "  </title>\n",
      "  <link>\n",
      "   http://www.yelp.com/user_details?userid=dMPdDtCgj8N_fKOp_YOXhg\n",
      "  </link>\n",
      "  <description>\n",
      "   Yelp - Michael's most recent reviews on Yelp.\n",
      "  </description>\n",
      "  <item>\n",
      "   <pubdate>\n",
      "    Fri, 02 Sep 2016 09:40:11  PST\n",
      "   </pubdate>\n",
      "   <title>\n",
      "    Chicas Tacos (3/5) on Yelp\n",
      "   </title>\n",
      "   <link>\n",
      "    https://www.yelp.com/biz/chicas-tacos-los-angeles?hrid=onffxHXKezg4g_xM2x-EHQ\n",
      "   </link>\n",
      "   <description>\n",
      "    Upon returning to LA, I noticed that there was a new taco place nearby, so I had to check it out. My brother warned me that it wouldn't be worth it, but I was pretty optimistic.\n",
      "\n",
      "The setup of the…\n",
      "   </description>\n",
      "   <geo:long>\n",
      "    -118.256342201\n",
      "   </geo:long>\n",
      "   <geo:lat>\n",
      "    34.0456597932\n",
      "   </geo:lat>\n",
      "  </item>\n",
      "  <item>\n",
      "   <pubdate>\n",
      "    Sun, 14 Aug 2016 21:59:12  PST\n",
      "   </pubdate>\n",
      "   <title>\n",
      "    Subway (1/5) on Yelp\n",
      "   </title>\n",
      "   <link>\n",
      "    https://www.yelp.com/biz/subway-smithtown-3?hrid=SEnT4x9WiWQ27On0Ry24AQ\n",
      "   </link>\n",
      "   <description>\n",
      "    4 years ago, I would come to this Subway on an almost daily basis. $5 footlongs on the healthier side of fast food and quality to go with it made it a great sell for a high school student on a budget.…\n",
      "   </description>\n",
      "   <geo:long>\n",
      "    -73.1564311\n",
      "   </geo:long>\n",
      "   <geo:lat>\n",
      "    40.8366258\n",
      "   </geo:lat>\n",
      "  </item>\n",
      "  <item>\n",
      "   <pubdate>\n",
      "    Fri, 12 Aug 2016 20:25:43  PST\n",
      "   </pubdate>\n",
      "   <title>\n",
      "    L.I. Pour House Bar and Grill (4/5) on Yelp\n",
      "   </title>\n",
      "   <link>\n",
      "    https://www.yelp.com/biz/l-i-pour-house-bar-and-grill-port-jefferson-station?hrid=1UqqR7vkrYe375cJkpnH_A\n",
      "   </link>\n",
      "   <description>\n",
      "    Every Thursday, from 7-9pm, this place offers \n"
     ]
    }
   ],
   "source": [
    "print(soup.prettify()[0:2000])"
   ]
  },
  {
   "cell_type": "markdown",
   "metadata": {},
   "source": [
    "# Scrape and collect relevant information"
   ]
  },
  {
   "cell_type": "markdown",
   "metadata": {},
   "source": [
    "### Test"
   ]
  },
  {
   "cell_type": "code",
   "execution_count": 59,
   "metadata": {
    "collapsed": false
   },
   "outputs": [
    {
     "name": "stdout",
     "output_type": "stream",
     "text": [
      "10\n"
     ]
    }
   ],
   "source": [
    "reviews = soup.find_all(\"item\")\n",
    "# should show 10 at once\n",
    "print(len(reviews))"
   ]
  },
  {
   "cell_type": "code",
   "execution_count": 62,
   "metadata": {
    "collapsed": false
   },
   "outputs": [
    {
     "name": "stdout",
     "output_type": "stream",
     "text": [
      "Restaurant: Chicas Tacos, Rating: 3/5\n",
      "Chicas Tacos\n",
      "3\n"
     ]
    }
   ],
   "source": [
    "# extracting name and stars from title (test)\n",
    "test_title = str(reviews[0].title)\n",
    "\n",
    "match = re.search(r\"<title>(?P<name>[^(]*) \\((?P<rating>\\d)/\\d\\) on Yelp</title>\", test_title)\n",
    "\n",
    "if match:\n",
    "    print(\"Restaurant: {}, Rating: {}/5\".format(match.group(\"name\"),\n",
    "                                                match.group(\"rating\")))\n",
    "    \n",
    "test_name = match.group(\"name\")\n",
    "print(test_name)\n",
    "test_rating = match.group(\"rating\")\n",
    "print(test_rating)"
   ]
  },
  {
   "cell_type": "code",
   "execution_count": 87,
   "metadata": {
    "collapsed": false
   },
   "outputs": [
    {
     "name": "stdout",
     "output_type": "stream",
     "text": [
      "https://www.yelp.com/biz/chicas-tacos-los-angeles?hrid=onffxHXKezg4g_xM2x-EHQ\n",
      "-118.256342201\n",
      "34.0456597932\n"
     ]
    }
   ],
   "source": [
    "# extracting other information (review link, coordinates)\n",
    "test_link = reviews[0].find(\"link\").getText()\n",
    "test_long = reviews[0].find(\"geo:long\").getText()\n",
    "test_lat = reviews[0].find(\"geo:lat\").getText()\n",
    "print(test_link)\n",
    "print(test_long)\n",
    "print(test_lat)"
   ]
  },
  {
   "cell_type": "markdown",
   "metadata": {},
   "source": [
    "### Execute on RSS feed"
   ]
  },
  {
   "cell_type": "code",
   "execution_count": 89,
   "metadata": {
    "collapsed": false
   },
   "outputs": [],
   "source": [
    "# make a restaurant class\n",
    "class Restaurant:\n",
    "    def __init__(self, name, stars, link, long, lat):\n",
    "        self.name = name\n",
    "        self.stars = stars\n",
    "        self.link = link\n",
    "        self.long = long\n",
    "        self.lat = lat\n",
    "\n",
    "title_pattern = r\"<title>(?P<name>[^(]*) \\((?P<stars>\\d)/\\d\\) on Yelp</title>\"\n",
    "\n",
    "restaurants = []\n",
    "# list of restaurants with relevant elements\n",
    "for review in reviews:\n",
    "    title = str(review.title)\n",
    "    name_stars = re.search(title_pattern, title)\n",
    "    name = name_stars.group(\"name\")\n",
    "    stars = name_stars.group(\"stars\")\n",
    "    link = review.find(\"link\").getText()\n",
    "    long = review.find(\"geo:long\").getText()\n",
    "    lat = review.find(\"geo:lat\").getText()\n",
    "    new = Restaurant(name, stars, link, long, lat)\n",
    "    restaurants.append(new)"
   ]
  },
  {
   "cell_type": "markdown",
   "metadata": {},
   "source": [
    "# Export (as JSON)"
   ]
  },
  {
   "cell_type": "code",
   "execution_count": 101,
   "metadata": {
    "collapsed": false
   },
   "outputs": [],
   "source": [
    "# json_string = json.dumps([ob.__dict__ for ob in restaurants])\n",
    "# print(json_string)"
   ]
  },
  {
   "cell_type": "code",
   "execution_count": 104,
   "metadata": {
    "collapsed": true
   },
   "outputs": [],
   "source": [
    "with open('restaurants.json', 'w') as output:\n",
    "    json.dump([ob.__dict__ for ob in restaurants], output)"
   ]
  }
 ],
 "metadata": {
  "kernelspec": {
   "display_name": "Python 3",
   "language": "python",
   "name": "python3"
  },
  "language_info": {
   "codemirror_mode": {
    "name": "ipython",
    "version": 3
   },
   "file_extension": ".py",
   "mimetype": "text/x-python",
   "name": "python",
   "nbconvert_exporter": "python",
   "pygments_lexer": "ipython3",
   "version": "3.5.1"
  }
 },
 "nbformat": 4,
 "nbformat_minor": 0
}
